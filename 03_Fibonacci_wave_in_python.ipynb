{
 "cells": [
  {
   "cell_type": "markdown",
   "id": "ade931c2",
   "metadata": {},
   "source": [
    "2082/05/16  10:22 PM, @Home, lalitpur"
   ]
  },
  {
   "cell_type": "code",
   "execution_count": 1,
   "id": "bdd90243",
   "metadata": {},
   "outputs": [],
   "source": [
    "import time, os"
   ]
  },
  {
   "cell_type": "code",
   "execution_count": 3,
   "id": "9d89d189",
   "metadata": {},
   "outputs": [
    {
     "name": "stdout",
     "output_type": "stream",
     "text": [
      " 0\n",
      " 1\n",
      "  1\n",
      "   2\n",
      "     3\n",
      "        5\n",
      "             8\n",
      "                     13\n",
      "                                  21\n",
      "                                                       34\n",
      "                                                                                         55\n",
      "                                                                                                                                                89\n",
      "                                                                                                                                                                                                                                         144\n",
      "                                                                                                                                                                                                                                                                                                                                                                                         233\n",
      "                                                                                                                                                                                                                                                                                                                                                                                                                                                                                                                                                                                                                                  377\n"
     ]
    }
   ],
   "source": [
    "a,b=0,1\n",
    "\n",
    "for _ in range(15):\n",
    "    print(\" \"*b + str(a))\n",
    "    a,b = b,a+b\n",
    "    time.sleep(0.3)\n",
    "    os.system(\"cls\" if os.name ==\"nt\" else \"clear\")\n",
    "    "
   ]
  },
  {
   "cell_type": "code",
   "execution_count": null,
   "id": "1133c59e",
   "metadata": {},
   "outputs": [],
   "source": []
  }
 ],
 "metadata": {
  "kernelspec": {
   "display_name": "base",
   "language": "python",
   "name": "python3"
  },
  "language_info": {
   "codemirror_mode": {
    "name": "ipython",
    "version": 3
   },
   "file_extension": ".py",
   "mimetype": "text/x-python",
   "name": "python",
   "nbconvert_exporter": "python",
   "pygments_lexer": "ipython3",
   "version": "3.13.5"
  }
 },
 "nbformat": 4,
 "nbformat_minor": 5
}
